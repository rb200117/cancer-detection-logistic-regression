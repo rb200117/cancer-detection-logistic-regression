{
 "cells": [
  {
   "cell_type": "markdown",
   "id": "2a89b785",
   "metadata": {},
   "source": [
    "# Cancer Detection using Logistic Regression"
   ]
  },
  {
   "cell_type": "markdown",
   "id": "dea60ce4",
   "metadata": {},
   "source": [
    "## Importing all the necessary libraries"
   ]
  },
  {
   "cell_type": "code",
   "execution_count": null,
   "id": "95464479",
   "metadata": {},
   "outputs": [],
   "source": [
    "import numpy as np\n",
    "import pandas as pd\n",
    "import matplotlib.pyplot as plt\n",
    "import seaborn as sns"
   ]
  },
  {
   "cell_type": "markdown",
   "id": "7fcc3fd5",
   "metadata": {},
   "source": [
    "## Importing the Dataframe"
   ]
  },
  {
   "cell_type": "code",
   "execution_count": 2,
   "id": "66223650",
   "metadata": {},
   "outputs": [],
   "source": [
    "df1 = pd.read_csv(\"/Users/rakshitbatra/Downloads/mubravo/kaggle_prediction_features.csv\")\n",
    "df2 = pd.read_csv(\"/Users/rakshitbatra/Downloads/mubravo/kaggle_to_students.csv\")\n",
    "id_list = df1['Patient'].tolist()\n",
    "df2 = df2.drop(['Patient'], axis = 1)"
   ]
  },
  {
   "cell_type": "markdown",
   "id": "ec66a90e",
   "metadata": {},
   "source": [
    "## Checking the imported dataframes"
   ]
  },
  {
   "cell_type": "code",
   "execution_count": 3,
   "id": "d019027a",
   "metadata": {},
   "outputs": [
    {
     "name": "stdout",
     "output_type": "stream",
     "text": [
      "   Patient  age  timerecurrence  chemo  hormonal  amputation  histtype  diam  \\\n",
      "0     s154   40       15.104723      0         0           1         1    15   \n",
      "1     s260   42        8.303901      1         0           0         1    18   \n",
      "2     s209   41        6.480493      1         0           1         1    25   \n",
      "3     s272   43        7.252567      1         1           1         1    18   \n",
      "4     s354   47        6.160164      0         0           1         1    32   \n",
      "5     s284   45        3.915127      1         1           1         1    40   \n",
      "6     s367   49        0.572211      0         0           0         1    30   \n",
      "7     s170   42       13.349760      1         0           1         1    25   \n",
      "8     s311   42        4.219028      1         0           1         1    35   \n",
      "9       s6   49       11.156742      0         0           0         1    13   \n",
      "10    s339   45       16.591376      1         0           0         1    20   \n",
      "11     s73   50        2.149213      0         0           1         1    27   \n",
      "12    s390   51        6.803559      0         1           0         1     7   \n",
      "13    s213   49        1.973990      1         0           1         1    15   \n",
      "14    s320   44        9.894593      1         0           0         1    15   \n",
      "15    s352   43        5.809719      0         0           1         1    22   \n",
      "16    s389   51        3.419576      0         1           0         1    25   \n",
      "17    s296   46        0.325804      0         0           1         1    23   \n",
      "18    s245   48       11.545517      1         0           1         1    35   \n",
      "19    s188   41       11.263518      1         0           1         1    15   \n",
      "20    s381   52        7.772758      0         0           0         1    30   \n",
      "21     s71   48        1.982204      1         0           1         1    30   \n",
      "22    s172   46        1.221081      1         0           0         1    30   \n",
      "23    s166   43        1.612594      0         0           1         1    35   \n",
      "24    s341   45        1.733060      1         0           1         1    30   \n",
      "25    s131   39        1.114305      0         0           0         1    17   \n",
      "26    s145   48        5.486653      1         1           0         1    19   \n",
      "27    s357   38        5.823409      1         1           1         2    12   \n",
      "28    s251   49        9.407255      0         0           0         1    16   \n",
      "29    s147   38        1.609856      0         0           1         1    17   \n",
      "30    s257   32        1.716632      1         0           0         1    25   \n",
      "31    s196   47       11.195072      1         0           1         1    25   \n",
      "32    s294   49        6.143737      1         0           1         1    35   \n",
      "33    s387   52        8.213552      0         1           0         1    20   \n",
      "34     s13   41        8.167009      0         0           0         1    21   \n",
      "35    s128   50        8.739220      1         1           0         1    25   \n",
      "36    s265   41        6.789870      1         1           1         1    45   \n",
      "37    s195   45        2.050650      1         0           0         1    20   \n",
      "38    s264   42        7.252567      1         1           1         1    21   \n",
      "39    s263   39        2.223135      1         0           1         1    29   \n",
      "40    s148   49       18.340862      0         0           1         1    50   \n",
      "41    s270   50        2.962355      0         0           1         1    34   \n",
      "42    s117   51        5.303217      0         0           0         1    15   \n",
      "43    s141   33        1.401780      0         0           1         1    30   \n",
      "44    s207   44        9.653662      0         0           1         2    35   \n",
      "45    s375   52       17.420945      1         0           0         1    30   \n",
      "46    s222   34        2.253251      0         0           1         1    15   \n",
      "47    s366   50       17.152635      0         0           0         1    15   \n",
      "48    s229   45        1.618070      0         0           0         1    30   \n",
      "49    s336   47        7.408624      0         0           0         1     7   \n",
      "50    s137   41       15.329227      1         0           0         1    18   \n",
      "51    s305   40        9.549624      0         0           1         1    30   \n",
      "52    s395   51       11.211499      0         0           1         1    25   \n",
      "53      s9   48       10.294319      0         0           0         1    15   \n",
      "54    s259   42        5.516769      0         0           0         1    13   \n",
      "\n",
      "    posnodes  grade  angioinv  lymphinfil      esr1  \n",
      "0          0      1         1           1  0.402855  \n",
      "1          2      2         3           1  0.081441  \n",
      "2          5      1         1           1 -0.051943  \n",
      "3          5      3         2           1 -0.040568  \n",
      "4          0      3         1           2 -0.084927  \n",
      "5          8      2         2           1  0.051452  \n",
      "6          0      2         1           1 -0.517116  \n",
      "7          2      1         2           1  0.064001  \n",
      "8          4      2         3           1  0.109356  \n",
      "9          0      2         1           1  0.073601  \n",
      "10         0      2         1           1  0.522648  \n",
      "11         0      3         1           1 -0.635322  \n",
      "12         1      1         1           1  0.222838  \n",
      "13         1      3         3           1 -0.162281  \n",
      "14         1      3         3           1 -0.228539  \n",
      "15         0      2         1           1 -0.167348  \n",
      "16         4      3         1           2 -0.294233  \n",
      "17         0      3         1           2 -0.400787  \n",
      "18         4      3         3           1  0.005666  \n",
      "19         1      1         1           1  0.432597  \n",
      "20         1      2         2           1 -0.037643  \n",
      "21         0      3         1           3 -1.235442  \n",
      "22         2      3         3           2 -0.116044  \n",
      "23         3      3         3           1  0.378869  \n",
      "24         4      2         1           1 -1.030526  \n",
      "25         0      3         1           1 -1.324176  \n",
      "26         2      2         3           1 -0.164632  \n",
      "27         2      1         1           1  0.339162  \n",
      "28         0      3         3           1 -0.523278  \n",
      "29         1      2         1           1 -1.303928  \n",
      "30         5      3         3           2 -0.987391  \n",
      "31         2      1         1           1  0.081947  \n",
      "32         9      2         3           1 -0.255982  \n",
      "33         1      2         1           1  0.050067  \n",
      "34         0      3         1           1 -0.163470  \n",
      "35         1      1         1           1  0.273410  \n",
      "36         4      3         1           3 -1.295610  \n",
      "37         3      2         3           1 -1.158259  \n",
      "38         4      2         3           2 -0.028608  \n",
      "39         3      3         3           1 -0.170719  \n",
      "40         0      3         2           1  0.582304  \n",
      "41         0      3         1           3 -1.373331  \n",
      "42         1      3         3           1 -0.136145  \n",
      "43         0      3         1           3 -1.255379  \n",
      "44         0      1         1           1  0.473494  \n",
      "45         1      3         1           1 -0.294615  \n",
      "46         0      3         1           3 -1.149146  \n",
      "47         0      2         3           1  0.187085  \n",
      "48         0      3         3           3 -0.340810  \n",
      "49         0      1         1           1 -0.096341  \n",
      "50         1      1         1           1  0.098739  \n",
      "51         0      1         1           1  0.027914  \n",
      "52        11      2         1           1 -0.083584  \n",
      "53         0      3         1           1 -0.180312  \n",
      "54         0      1         3           1 -0.373530  \n"
     ]
    }
   ],
   "source": [
    "print(df1)"
   ]
  },
  {
   "cell_type": "code",
   "execution_count": 4,
   "id": "2ab8474a",
   "metadata": {},
   "outputs": [
    {
     "name": "stdout",
     "output_type": "stream",
     "text": [
      "     age  eventdeath  timerecurrence  chemo  hormonal  amputation  histtype  \\\n",
      "0     45           0        7.874059      0         0           0         1   \n",
      "1     43           1        3.121150      1         0           0         1   \n",
      "2     48           0        8.366872      0         0           0         7   \n",
      "3     50           0        6.045175      0         0           0         1   \n",
      "4     46           1        8.128679      1         0           1         2   \n",
      "..   ...         ...             ...    ...       ...         ...       ...   \n",
      "212   44           0        6.874743      0         0           0         1   \n",
      "213   39           0       10.907598      0         0           0         1   \n",
      "214   50           0        5.637235      1         1           1         1   \n",
      "215   52           1        2.209446      0         1           1         1   \n",
      "216   41           1        2.004107      1         0           0         1   \n",
      "\n",
      "     diam  posnodes  grade  angioinv  lymphinfil      esr1  \n",
      "0      30         1      1         1           1  0.352512  \n",
      "1      22         1      2         1           1  0.425800  \n",
      "2      10         0      1         1           1  0.054635  \n",
      "3      14         0      2         1           1 -0.052160  \n",
      "4      40         9      1         2           1 -0.147207  \n",
      "..    ...       ...    ...       ...         ...       ...  \n",
      "212    13         0      1         1           1 -1.247951  \n",
      "213    15         0      3         3           1 -0.597746  \n",
      "214    20         1      2         2           1  0.065051  \n",
      "215    28         0      3         1           1 -1.055801  \n",
      "216    25         0      3         1           2 -1.186065  \n",
      "\n",
      "[217 rows x 13 columns]\n"
     ]
    }
   ],
   "source": [
    "print(df2)"
   ]
  },
  {
   "cell_type": "markdown",
   "id": "357ee08c",
   "metadata": {},
   "source": [
    "## Checking for Null Values in the DataFrame"
   ]
  },
  {
   "cell_type": "code",
   "execution_count": 5,
   "id": "d841be12",
   "metadata": {},
   "outputs": [
    {
     "data": {
      "text/plain": [
       "age               0\n",
       "eventdeath        0\n",
       "timerecurrence    0\n",
       "chemo             0\n",
       "hormonal          0\n",
       "amputation        0\n",
       "histtype          0\n",
       "diam              0\n",
       "posnodes          0\n",
       "grade             0\n",
       "angioinv          0\n",
       "lymphinfil        0\n",
       "esr1              0\n",
       "dtype: int64"
      ]
     },
     "execution_count": 5,
     "metadata": {},
     "output_type": "execute_result"
    }
   ],
   "source": [
    "df2.isna().sum()"
   ]
  },
  {
   "cell_type": "markdown",
   "id": "7c0780a3",
   "metadata": {},
   "source": [
    "## Plotting a Histogram to get the gist of the dataframe"
   ]
  },
  {
   "cell_type": "code",
   "execution_count": 6,
   "id": "b009008b",
   "metadata": {},
   "outputs": [
    {
     "data": {
      "text/plain": [
       "<AxesSubplot:ylabel='Frequency'>"
      ]
     },
     "execution_count": 6,
     "metadata": {},
     "output_type": "execute_result"
    },
    {
     "data": {
      "image/png": "[encoded data removed]",
      "text/plain": [
       "<Figure size 432x288 with 1 Axes>"
      ]
     },
     "metadata": {
      "needs_background": "light"
     },
     "output_type": "display_data"
    }
   ],
   "source": [
    "df2['timerecurrence'].plot.hist()"
   ]
  },
  {
   "cell_type": "code",
   "execution_count": 7,
   "id": "bd458f0c",
   "metadata": {},
   "outputs": [],
   "source": [
    "y = df2[\"eventdeath\"]\n",
    "x = df2.drop([\"eventdeath\"], axis=1)"
   ]
  },
  {
   "cell_type": "markdown",
   "id": "18a2e27a",
   "metadata": {},
   "source": [
    "## Importing the Logistic Regression Model "
   ]
  },
  {
   "cell_type": "code",
   "execution_count": 8,
   "id": "47080374",
   "metadata": {},
   "outputs": [],
   "source": [
    "from sklearn.linear_model import LogisticRegression\n",
    "from sklearn.model_selection import train_test_split\n",
    "logisticRegr = LogisticRegression(solver='lbfgs', max_iter=200)"
   ]
  },
  {
   "cell_type": "markdown",
   "id": "fe97a6ab",
   "metadata": {},
   "source": [
    "## Performing the Train Test Split on the dataframe"
   ]
  },
  {
   "cell_type": "code",
   "execution_count": 9,
   "id": "319bfdb5",
   "metadata": {},
   "outputs": [],
   "source": [
    "X_train,X_test,y_train,y_test=train_test_split(x,y,test_size=1,train_size=0.1,random_state=1)"
   ]
  },
  {
   "cell_type": "code",
   "execution_count": 10,
   "id": "4f92e16e",
   "metadata": {},
   "outputs": [
    {
     "name": "stdout",
     "output_type": "stream",
     "text": [
      "    age  timerecurrence  chemo  hormonal  amputation  histtype  diam  \\\n",
      "78   41         8.80219      0         0           1         2    25   \n",
      "\n",
      "    posnodes  grade  angioinv  lymphinfil      esr1  \n",
      "78         0      1         1           1  0.226397  \n"
     ]
    }
   ],
   "source": [
    "print(X_test)"
   ]
  },
  {
   "cell_type": "markdown",
   "id": "3cfef564",
   "metadata": {},
   "source": [
    "## Initializing the Model and running it on the training set"
   ]
  },
  {
   "cell_type": "code",
   "execution_count": 11,
   "id": "6500617b",
   "metadata": {},
   "outputs": [
    {
     "name": "stderr",
     "output_type": "stream",
     "text": [
      "/Users/rakshitbatra/opt/anaconda3/lib/python3.8/site-packages/sklearn/linear_model/_logistic.py:763: ConvergenceWarning: lbfgs failed to converge (status=1):\n",
      "STOP: TOTAL NO. of ITERATIONS REACHED LIMIT.\n",
      "\n",
      "Increase the number of iterations (max_iter) or scale the data as shown in:\n",
      "    https://scikit-learn.org/stable/modules/preprocessing.html\n",
      "Please also refer to the documentation for alternative solver options:\n",
      "    https://scikit-learn.org/stable/modules/linear_model.html#logistic-regression\n",
      "  n_iter_i = _check_optimize_result(\n"
     ]
    },
    {
     "data": {
      "text/plain": [
       "LogisticRegression(random_state=32)"
      ]
     },
     "execution_count": 11,
     "metadata": {},
     "output_type": "execute_result"
    }
   ],
   "source": [
    "from sklearn.linear_model import LogisticRegression  \n",
    "classifier= LogisticRegression(random_state=32)  \n",
    "classifier.fit(X_train,y_train)"
   ]
  },
  {
   "cell_type": "markdown",
   "id": "0912d77f",
   "metadata": {},
   "source": [
    "## Predicting Whether the Patient has Cancer or not"
   ]
  },
  {
   "cell_type": "code",
   "execution_count": 13,
   "id": "74298df7",
   "metadata": {},
   "outputs": [
    {
     "name": "stdout",
     "output_type": "stream",
     "text": [
      "s154 . Person Survives\n",
      "s260 . Person Survives\n",
      "s209 . Person Survives\n",
      "s272 . Person Survives\n",
      "s354 . Person is Dead\n",
      "s284 . Person is Dead\n",
      "s367 . Person is Dead\n",
      "s170 . Person Survives\n",
      "s311 . Person is Dead\n",
      "s6 . Person Survives\n",
      "s339 . Person Survives\n",
      "s73 . Person is Dead\n",
      "s390 . Person Survives\n",
      "s213 . Person Survives\n",
      "s320 . Person Survives\n",
      "s352 . Person Survives\n",
      "s389 . Person is Dead\n",
      "s296 . Person is Dead\n",
      "s245 . Person Survives\n",
      "s188 . Person Survives\n",
      "s381 . Person is Dead\n",
      "s71 . Person is Dead\n",
      "s172 . Person is Dead\n",
      "s166 . Person is Dead\n",
      "s341 . Person is Dead\n",
      "s131 . Person Survives\n",
      "s145 . Person Survives\n",
      "s357 . Person Survives\n",
      "s251 . Person Survives\n",
      "s147 . Person Survives\n",
      "s257 . Person Survives\n",
      "s196 . Person Survives\n",
      "s294 . Person is Dead\n",
      "s387 . Person is Dead\n",
      "s13 . Person Survives\n",
      "s128 . Person is Dead\n",
      "s265 . Person is Dead\n",
      "s195 . Person Survives\n",
      "s264 . Person Survives\n",
      "s263 . Person Survives\n",
      "s148 . Person is Dead\n",
      "s270 . Person is Dead\n",
      "s117 . Person Survives\n",
      "s141 . Person is Dead\n",
      "s207 . Person is Dead\n",
      "s375 . Person Survives\n",
      "s222 . Person Survives\n",
      "s366 . Person Survives\n",
      "s229 . Person is Dead\n",
      "s336 . Person Survives\n",
      "s137 . Person Survives\n",
      "s305 . Person Survives\n",
      "s395 . Person is Dead\n",
      "s9 . Person Survives\n",
      "s259 . Person Survives\n"
     ]
    }
   ],
   "source": [
    "y_pred= classifier.predict(df1.drop(['Patient'], axis=1))\n",
    "count = 0\n",
    "list = []\n",
    "for i in y_pred:\n",
    "    if i==1:\n",
    "        print(id_list[count],\". Person is Dead\")\n",
    "    else:\n",
    "        print(id_list[count],\". Person Survives\")\n",
    "    count+=1"
   ]
  },
  {
   "cell_type": "markdown",
   "id": "986e5417",
   "metadata": {},
   "source": [
    "## Training Score"
   ]
  },
  {
   "cell_type": "code",
   "execution_count": 154,
   "id": "d83a65b5",
   "metadata": {},
   "outputs": [
    {
     "data": {
      "text/plain": [
       "0.9047619047619048"
      ]
     },
     "execution_count": 154,
     "metadata": {},
     "output_type": "execute_result"
    }
   ],
   "source": [
    "classifier.score(X_train, y_train)"
   ]
  },
  {
   "cell_type": "markdown",
   "id": "f72a6758",
   "metadata": {},
   "source": [
    "## Testing Score"
   ]
  },
  {
   "cell_type": "code",
   "execution_count": 155,
   "id": "4c9b7915",
   "metadata": {},
   "outputs": [
    {
     "data": {
      "text/plain": [
       "1.0"
      ]
     },
     "execution_count": 155,
     "metadata": {},
     "output_type": "execute_result"
    }
   ],
   "source": [
    "classifier.score(X_test, y_test)"
   ]
  }
 ],
 "metadata": {
  "kernelspec": {
   "display_name": "Python 3",
   "language": "python",
   "name": "python3"
  },
  "language_info": {
   "codemirror_mode": {
    "name": "ipython",
    "version": 3
   },
   "file_extension": ".py",
   "mimetype": "text/x-python",
   "name": "python",
   "nbconvert_exporter": "python",
   "pygments_lexer": "ipython3",
   "version": "3.8.8"
  }
 },
 "nbformat": 4,
 "nbformat_minor": 5
}
